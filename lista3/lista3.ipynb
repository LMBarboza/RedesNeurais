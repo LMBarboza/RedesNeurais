{
 "cells": [
  {
   "cell_type": "code",
   "execution_count": 2,
   "id": "547dd79d-800d-404b-b4a6-529099e8a9b7",
   "metadata": {},
   "outputs": [
    {
     "name": "stdout",
     "output_type": "stream",
     "text": [
      "Learning Rate: 2\n",
      "RedeBase(\n",
      "  (layers): ModuleList(\n",
      "    (0): Linear(in_features=784, out_features=128, bias=True)\n",
      "    (1): ReLU()\n",
      "    (2): Linear(in_features=128, out_features=10, bias=True)\n",
      "  )\n",
      ")\n",
      "Epoch: 1/5, Loss: 66.0547\n",
      "Epoch 1/5, Test Accuracy: 10.13%\n",
      "Epoch: 2/5, Loss: 3.0089\n",
      "Epoch 2/5, Test Accuracy: 10.13%\n",
      "Epoch: 3/5, Loss: 2.5022\n",
      "Epoch 3/5, Test Accuracy: 10.36%\n",
      "Epoch: 4/5, Loss: 2.5076\n",
      "Epoch 4/5, Test Accuracy: 10.36%\n",
      "Epoch: 5/5, Loss: 2.5106\n",
      "Epoch 5/5, Test Accuracy: 9.62%\n"
     ]
    }
   ],
   "source": [
    "%run 'item_c.py'"
   ]
  },
  {
   "cell_type": "code",
   "execution_count": 3,
   "id": "3dcff798-585b-4002-b8a9-06fd92195651",
   "metadata": {},
   "outputs": [
    {
     "name": "stdout",
     "output_type": "stream",
     "text": [
      "Learning Rate: 1\n",
      "RedeBase(\n",
      "  (layers): ModuleList(\n",
      "    (0): Linear(in_features=784, out_features=128, bias=True)\n",
      "    (1): ReLU()\n",
      "    (2): Linear(in_features=128, out_features=10, bias=True)\n",
      "  )\n",
      ")\n",
      "Epoch: 1/5, Loss: 25.2400\n",
      "Epoch 1/5, Test Accuracy: 11.61%\n",
      "Epoch: 2/5, Loss: 2.8192\n",
      "Epoch 2/5, Test Accuracy: 11.35%\n",
      "Epoch: 3/5, Loss: 2.4115\n",
      "Epoch 3/5, Test Accuracy: 10.08%\n",
      "Epoch: 4/5, Loss: 2.4101\n",
      "Epoch 4/5, Test Accuracy: 9.58%\n",
      "Epoch: 5/5, Loss: 2.4121\n",
      "Epoch 5/5, Test Accuracy: 8.92%\n"
     ]
    }
   ],
   "source": [
    "%run 'item_c.py'"
   ]
  },
  {
   "cell_type": "code",
   "execution_count": 5,
   "id": "2c21adf5-06b1-46e0-b289-956bb9e87fe9",
   "metadata": {},
   "outputs": [
    {
     "name": "stdout",
     "output_type": "stream",
     "text": [
      "Learning Rate: 0.1\n",
      "RedeBase(\n",
      "  (layers): ModuleList(\n",
      "    (0): Linear(in_features=784, out_features=128, bias=True)\n",
      "    (1): ReLU()\n",
      "    (2): Linear(in_features=128, out_features=10, bias=True)\n",
      "  )\n",
      ")\n",
      "Epoch: 1/5, Loss: 2.2686\n",
      "Epoch 1/5, Test Accuracy: 16.05%\n",
      "Epoch: 2/5, Loss: 2.3099\n",
      "Epoch 2/5, Test Accuracy: 11.37%\n",
      "Epoch: 3/5, Loss: 2.3137\n",
      "Epoch 3/5, Test Accuracy: 10.30%\n",
      "Epoch: 4/5, Loss: 2.3145\n",
      "Epoch 4/5, Test Accuracy: 11.37%\n",
      "Epoch: 5/5, Loss: 2.3130\n",
      "Epoch 5/5, Test Accuracy: 10.30%\n"
     ]
    }
   ],
   "source": [
    "%run 'item_c.py'"
   ]
  },
  {
   "cell_type": "code",
   "execution_count": 6,
   "id": "c2771344-53d1-4a32-be79-b5f3145f2325",
   "metadata": {},
   "outputs": [
    {
     "name": "stdout",
     "output_type": "stream",
     "text": [
      "Learning Rate: 0.01\n",
      "RedeBase(\n",
      "  (layers): ModuleList(\n",
      "    (0): Linear(in_features=784, out_features=128, bias=True)\n",
      "    (1): ReLU()\n",
      "    (2): Linear(in_features=128, out_features=10, bias=True)\n",
      "  )\n",
      ")\n",
      "Epoch: 1/5, Loss: 0.3317\n",
      "Epoch 1/5, Test Accuracy: 91.91%\n",
      "Epoch: 2/5, Loss: 0.2588\n",
      "Epoch 2/5, Test Accuracy: 94.25%\n",
      "Epoch: 3/5, Loss: 0.2582\n",
      "Epoch 3/5, Test Accuracy: 92.19%\n",
      "Epoch: 4/5, Loss: 0.2450\n",
      "Epoch 4/5, Test Accuracy: 94.37%\n",
      "Epoch: 5/5, Loss: 0.2272\n",
      "Epoch 5/5, Test Accuracy: 94.00%\n"
     ]
    }
   ],
   "source": [
    "%run 'item_c.py'"
   ]
  },
  {
   "cell_type": "code",
   "execution_count": 8,
   "id": "08c66802-9647-4a63-9360-abb172dd1a47",
   "metadata": {},
   "outputs": [
    {
     "name": "stdout",
     "output_type": "stream",
     "text": [
      "RedeBase(\n",
      "  (layers): ModuleList(\n",
      "    (0): Linear(in_features=784, out_features=10, bias=True)\n",
      "  )\n",
      ")\n",
      "Epoch: 1/5, Loss: 0.7078\n",
      "Epoch 1/5, Test Accuracy: 88.25%\n",
      "Epoch: 2/5, Loss: 0.7234\n",
      "Epoch 2/5, Test Accuracy: 87.00%\n",
      "Epoch: 3/5, Loss: 0.7435\n",
      "Epoch 3/5, Test Accuracy: 88.89%\n",
      "Epoch: 4/5, Loss: 0.7432\n",
      "Epoch 4/5, Test Accuracy: 89.42%\n",
      "Epoch: 5/5, Loss: 0.7414\n",
      "Epoch 5/5, Test Accuracy: 90.27%\n",
      "RedeBase(\n",
      "  (layers): ModuleList(\n",
      "    (0): Linear(in_features=784, out_features=128, bias=True)\n",
      "    (1): ReLU()\n",
      "    (2): Linear(in_features=128, out_features=10, bias=True)\n",
      "  )\n",
      ")\n",
      "Epoch: 1/5, Loss: 0.3287\n",
      "Epoch 1/5, Test Accuracy: 92.68%\n",
      "Epoch: 2/5, Loss: 0.2636\n",
      "Epoch 2/5, Test Accuracy: 92.69%\n",
      "Epoch: 3/5, Loss: 0.2526\n",
      "Epoch 3/5, Test Accuracy: 93.26%\n",
      "Epoch: 4/5, Loss: 0.2414\n",
      "Epoch 4/5, Test Accuracy: 94.58%\n",
      "Epoch: 5/5, Loss: 0.2383\n",
      "Epoch 5/5, Test Accuracy: 93.39%\n",
      "RedeBase(\n",
      "  (layers): ModuleList(\n",
      "    (0): Linear(in_features=784, out_features=128, bias=True)\n",
      "    (1): ReLU()\n",
      "    (2): Linear(in_features=128, out_features=64, bias=True)\n",
      "    (3): ReLU()\n",
      "    (4): Linear(in_features=64, out_features=10, bias=True)\n",
      "  )\n",
      ")\n",
      "Epoch: 1/5, Loss: 0.3254\n",
      "Epoch 1/5, Test Accuracy: 93.61%\n",
      "Epoch: 2/5, Loss: 0.2375\n",
      "Epoch 2/5, Test Accuracy: 93.81%\n",
      "Epoch: 3/5, Loss: 0.2056\n",
      "Epoch 3/5, Test Accuracy: 93.88%\n",
      "Epoch: 4/5, Loss: 0.2006\n",
      "Epoch 4/5, Test Accuracy: 95.78%\n",
      "Epoch: 5/5, Loss: 0.1844\n",
      "Epoch 5/5, Test Accuracy: 94.64%\n",
      "RedeBase(\n",
      "  (layers): ModuleList(\n",
      "    (0): Linear(in_features=784, out_features=128, bias=True)\n",
      "    (1): ReLU()\n",
      "    (2): Linear(in_features=128, out_features=64, bias=True)\n",
      "    (3): ReLU()\n",
      "    (4): Linear(in_features=64, out_features=32, bias=True)\n",
      "    (5): ReLU()\n",
      "    (6): Linear(in_features=32, out_features=10, bias=True)\n",
      "  )\n",
      ")\n",
      "Epoch: 1/5, Loss: 0.3406\n",
      "Epoch 1/5, Test Accuracy: 93.23%\n",
      "Epoch: 2/5, Loss: 0.2393\n",
      "Epoch 2/5, Test Accuracy: 94.45%\n",
      "Epoch: 3/5, Loss: 0.2129\n",
      "Epoch 3/5, Test Accuracy: 94.28%\n",
      "Epoch: 4/5, Loss: 0.2011\n",
      "Epoch 4/5, Test Accuracy: 95.16%\n",
      "Epoch: 5/5, Loss: 0.1902\n",
      "Epoch 5/5, Test Accuracy: 95.44%\n"
     ]
    }
   ],
   "source": [
    "%run 'item_d.py'"
   ]
  },
  {
   "cell_type": "code",
   "execution_count": 12,
   "id": "7bfae69d-adc3-4251-84d0-3e9147946651",
   "metadata": {},
   "outputs": [
    {
     "name": "stdout",
     "output_type": "stream",
     "text": [
      "96.02\n"
     ]
    }
   ],
   "source": [
    "%run 'item_e.py'"
   ]
  }
 ],
 "metadata": {
  "kernelspec": {
   "display_name": "Python (myenv)",
   "language": "python",
   "name": "venv"
  },
  "language_info": {
   "codemirror_mode": {
    "name": "ipython",
    "version": 3
   },
   "file_extension": ".py",
   "mimetype": "text/x-python",
   "name": "python",
   "nbconvert_exporter": "python",
   "pygments_lexer": "ipython3",
   "version": "3.10.12"
  }
 },
 "nbformat": 4,
 "nbformat_minor": 5
}
